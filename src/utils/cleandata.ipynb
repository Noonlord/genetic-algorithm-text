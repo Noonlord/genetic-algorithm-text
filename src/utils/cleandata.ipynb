{
 "cells": [
  {
   "cell_type": "code",
   "execution_count": 1,
   "metadata": {},
   "outputs": [],
   "source": [
    "import pandas as pd \n",
    "import numpy as np\n",
    "\n"
   ]
  },
  {
   "cell_type": "code",
   "execution_count": 2,
   "metadata": {},
   "outputs": [],
   "source": [
    "# read json from C:\\Users\\varda\\OneDrive\\Masaüstü\\\n",
    "df = pd.read_json('C:\\\\Users\\\\varda\\\\OneDrive\\\\Masaüstü\\\\News_Category_Dataset_v3.json', lines=True)\n"
   ]
  },
  {
   "cell_type": "code",
   "execution_count": 9,
   "metadata": {},
   "outputs": [
    {
     "data": {
      "text/plain": [
       "POLITICS          35602\n",
       "WELLNESS          17945\n",
       "ENTERTAINMENT     17362\n",
       "TRAVEL             9900\n",
       "STYLE & BEAUTY     9814\n",
       "PARENTING          8791\n",
       "HEALTHY LIVING     6694\n",
       "QUEER VOICES       6347\n",
       "FOOD & DRINK       6340\n",
       "BUSINESS           5992\n",
       "COMEDY             5400\n",
       "SPORTS             5077\n",
       "BLACK VOICES       4583\n",
       "HOME & LIVING      4320\n",
       "PARENTS            3955\n",
       "THE WORLDPOST      3664\n",
       "WEDDINGS           3653\n",
       "WOMEN              3572\n",
       "CRIME              3562\n",
       "IMPACT             3484\n",
       "DIVORCE            3426\n",
       "WORLD NEWS         3299\n",
       "MEDIA              2944\n",
       "WEIRD NEWS         2777\n",
       "GREEN              2622\n",
       "WORLDPOST          2579\n",
       "RELIGION           2577\n",
       "STYLE              2254\n",
       "SCIENCE            2206\n",
       "TECH               2104\n",
       "TASTE              2096\n",
       "MONEY              1756\n",
       "ARTS               1509\n",
       "ENVIRONMENT        1444\n",
       "FIFTY              1401\n",
       "GOOD NEWS          1398\n",
       "U.S. NEWS          1377\n",
       "ARTS & CULTURE     1339\n",
       "COLLEGE            1144\n",
       "LATINO VOICES      1130\n",
       "CULTURE & ARTS     1074\n",
       "EDUCATION          1014\n",
       "Name: category, dtype: int64"
      ]
     },
     "execution_count": 9,
     "metadata": {},
     "output_type": "execute_result"
    }
   ],
   "source": [
    "# get unique df.category values with value counts\n",
    "\"\"\"\n",
    "POLITICS          35602\n",
    "WELLNESS          17945\n",
    "ENTERTAINMENT     17362\n",
    "TRAVEL             9900\n",
    "STYLE & BEAUTY     9814\n",
    "PARENTING          8791\n",
    "HEALTHY LIVING     6694\n",
    "QUEER VOICES       6347\n",
    "FOOD & DRINK       6340\n",
    "BUSINESS           5992\n",
    "\"\"\"\n",
    "df.category.value_counts()\n",
    "\n",
    "\n"
   ]
  },
  {
   "cell_type": "code",
   "execution_count": 12,
   "metadata": {},
   "outputs": [
    {
     "name": "stderr",
     "output_type": "stream",
     "text": [
      "C:\\Users\\varda\\AppData\\Local\\Temp\\ipykernel_22424\\10160209.py:7: FutureWarning: The default value of regex will change from True to False in a future version.\n",
      "  df.short_description = df.short_description.str.replace('[^\\w\\s]','')\n",
      "C:\\Users\\varda\\AppData\\Local\\Temp\\ipykernel_22424\\10160209.py:15: FutureWarning: The default value of regex will change from True to False in a future version.\n",
      "  df.short_description = df.short_description.str.replace('\\d+', '')\n",
      "C:\\Users\\varda\\AppData\\Local\\Temp\\ipykernel_22424\\10160209.py:18: FutureWarning: The default value of regex will change from True to False in a future version.\n",
      "  df.short_description = df.short_description.str.replace('http\\S+|www.\\S+', '', case=False)\n"
     ]
    }
   ],
   "source": [
    "df.short_description = df.short_description.astype(str)\n",
    "\n",
    "# Lowercase\n",
    "df.short_description = df.short_description.apply(lambda x: x.lower())\n",
    "\n",
    "# Remove punctuation\n",
    "df.short_description = df.short_description.str.replace('[^\\w\\s]','')\n",
    "\n",
    "# Remove stopwords\n",
    "from nltk.corpus import stopwords\n",
    "stop = stopwords.words('english')\n",
    "df.short_description = df.short_description.apply(lambda x: ' '.join([word for word in x.split() if word not in (stop)]))\n",
    "\n",
    "# Remove numbers\n",
    "df.short_description = df.short_description.str.replace('\\d+', '')\n",
    "\n",
    "# Remove links\n",
    "df.short_description = df.short_description.str.replace('http\\S+|www.\\S+', '', case=False)\n",
    "\n"
   ]
  },
  {
   "cell_type": "code",
   "execution_count": 13,
   "metadata": {},
   "outputs": [
    {
     "data": {
      "text/plain": [
       "0         health experts said early predict whether dema...\n",
       "1         subdued passengers crew fled back aircraft con...\n",
       "2                           dog dont understand could eaten\n",
       "3         accidentally put grownup toothpaste toddlers t...\n",
       "4         amy cooper accused investment firm franklin te...\n",
       "                                ...                        \n",
       "209522    verizon wireless att already promoting lte dev...\n",
       "209523    afterward azarenka effusive press normal credi...\n",
       "209524    leading super bowl xlvi talked game could end ...\n",
       "209525    correction earlier version story incorrectly s...\n",
       "209526    fivetime allstar center tore teammates friday ...\n",
       "Name: short_description, Length: 209527, dtype: object"
      ]
     },
     "execution_count": 13,
     "metadata": {},
     "output_type": "execute_result"
    }
   ],
   "source": [
    "df.short_description\n"
   ]
  },
  {
   "cell_type": "code",
   "execution_count": 26,
   "metadata": {},
   "outputs": [],
   "source": [
    "vocab = set()\n",
    "word_counts = {\n",
    "    'POLITICS': {},\n",
    "    'WELLNESS': {},\n",
    "    'ENTERTAINMENT': {},\n",
    "    'TRAVEL': {},\n",
    "    'STYLE & BEAUTY': {},\n",
    "    'PARENTING': {},\n",
    "    'HEALTHY LIVING': {},\n",
    "    'QUEER VOICES': {},\n",
    "    'FOOD & DRINK': {},\n",
    "    'BUSINESS': {}\n",
    "    \n",
    "}\n",
    "counts = {\n",
    "    'POLITICS': 0,\n",
    "    'WELLNESS': 0,\n",
    "    'ENTERTAINMENT': 0,\n",
    "    'TRAVEL': 0,\n",
    "    'STYLE & BEAUTY': 0,\n",
    "    'PARENTING': 0,\n",
    "    'HEALTHY LIVING': 0,\n",
    "    'QUEER VOICES': 0,\n",
    "    'FOOD & DRINK': 0,\n",
    "    'BUSINESS': 0\n",
    "}\n",
    "for text, label in zip(df['short_description'], df['category']):\n",
    "    if label not in [\n",
    "        'POLITICS',\n",
    "        'WELLNESS',\n",
    "        'ENTERTAINMENT',\n",
    "        'TRAVEL',\n",
    "        'STYLE & BEAUTY',\n",
    "        'PARENTING',\n",
    "        'HEALTHY LIVING',\n",
    "        'QUEER VOICES',\n",
    "        'FOOD & DRINK',\n",
    "        'BUSINESS'\n",
    "    ]:\n",
    "        continue\n",
    "    counts[label] += 1\n",
    "    if counts[label] > 5000:\n",
    "        continue\n",
    "    for word in text.split():\n",
    "        vocab.add(word)\n",
    "        if word not in word_counts[label]:\n",
    "            word_counts[label][word] = 0\n",
    "        word_counts[label][word] += 1\n",
    "\n",
    "# get politics and wellness vocab\n",
    "politics_vocab = set(word_counts['POLITICS'].keys())\n",
    "wellness_vocab = set(word_counts['WELLNESS'].keys())\n",
    "politics_wellness = politics_vocab & wellness_vocab\n",
    "entertainment_vocab = set(word_counts['ENTERTAINMENT'].keys())\n",
    "travel_vocab = set(word_counts['TRAVEL'].keys())\n",
    "entertainment_travel = entertainment_vocab & travel_vocab\n",
    "style_beauty_vocab = set(word_counts['STYLE & BEAUTY'].keys())\n",
    "parenting_vocab = set(word_counts['PARENTING'].keys())\n",
    "style_beauty_parenting = style_beauty_vocab & parenting_vocab\n",
    "healthy_living_vocab = set(word_counts['HEALTHY LIVING'].keys())\n",
    "queer_voices_vocab = set(word_counts['QUEER VOICES'].keys())\n",
    "healthy_living_queer_voices = healthy_living_vocab & queer_voices_vocab\n",
    "food_drink_vocab = set(word_counts['FOOD & DRINK'].keys())\n",
    "business_vocab = set(word_counts['BUSINESS'].keys())\n",
    "food_drink_business = food_drink_vocab & business_vocab\n",
    "\n"
   ]
  },
  {
   "cell_type": "code",
   "execution_count": 27,
   "metadata": {},
   "outputs": [],
   "source": [
    "# write food_drink_business healthy_living_queer_voices style_beauty_parenting entertainment_travel politics_wellness to jsons\n",
    "import json\n",
    "with open('food_drink_business.json', 'w') as fp:\n",
    "    json.dump(list(food_drink_business), fp)\n",
    "with open('healthy_living_queer_voices.json', 'w') as fp:\n",
    "    json.dump(list(healthy_living_queer_voices), fp)\n",
    "with open('style_beauty_parenting.json', 'w') as fp:\n",
    "    json.dump(list(style_beauty_parenting), fp)\n",
    "with open('entertainment_travel.json', 'w') as fp:\n",
    "    json.dump(list(entertainment_travel), fp)\n",
    "with open('politics_wellness.json', 'w') as fp:\n",
    "    json.dump(list(politics_wellness), fp)\n",
    "# write word_counts to json\n",
    "with open('word_counts.json', 'w') as fp:\n",
    "    json.dump(word_counts, fp)\n"
   ]
  },
  {
   "cell_type": "code",
   "execution_count": null,
   "metadata": {},
   "outputs": [],
   "source": []
  }
 ],
 "metadata": {
  "kernelspec": {
   "display_name": "Python 3.9.12 ('base')",
   "language": "python",
   "name": "python3"
  },
  "language_info": {
   "codemirror_mode": {
    "name": "ipython",
    "version": 3
   },
   "file_extension": ".py",
   "mimetype": "text/x-python",
   "name": "python",
   "nbconvert_exporter": "python",
   "pygments_lexer": "ipython3",
   "version": "3.9.12"
  },
  "orig_nbformat": 4,
  "vscode": {
   "interpreter": {
    "hash": "f49206fcf84a9145e7e21228cbafa911d1ac18292303b01e865d8267a9c448f7"
   }
  }
 },
 "nbformat": 4,
 "nbformat_minor": 2
}
